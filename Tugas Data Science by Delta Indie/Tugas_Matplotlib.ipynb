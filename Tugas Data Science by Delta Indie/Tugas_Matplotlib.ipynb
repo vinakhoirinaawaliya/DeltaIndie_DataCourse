{
 "cells": [
  {
   "cell_type": "markdown",
   "id": "3647d941-f78b-4a53-bdb7-54c55994faa7",
   "metadata": {},
   "source": [
    "# VISUALISASI DATA PENJUALAN PRODUK CETAKAN MENGGUNAKAN PYTHON DENGAN LIBRARY MATPLOTLIB\n",
    "\n",
    "Nama : Vina \n",
    "\n",
    "Produk : FoodpakMatte245\n",
    "\n",
    "Soal:\n",
    "\n",
    "1. Analisa penjualan setiap bulan dari produk FoodpakMatte245.\n",
    "2. Visualisasikan pendapatan tertinggi setiap bulannya.\n",
    "3. Kasih legenda setiap visualisasi."
   ]
  },
  {
   "cell_type": "code",
   "execution_count": 3,
   "id": "53fc22fb-59b1-4f37-968e-f1813f7fb724",
   "metadata": {},
   "outputs": [],
   "source": [
    "# Import library\n",
    "import numpy as np\n",
    "import pandas as pd\n",
    "import matplotlib.pyplot as plt"
   ]
  },
  {
   "cell_type": "code",
   "execution_count": 4,
   "id": "c3559798-6e0b-41e8-8df7-1b3aeb373212",
   "metadata": {},
   "outputs": [
    {
     "data": {
      "text/html": [
       "<div>\n",
       "<style scoped>\n",
       "    .dataframe tbody tr th:only-of-type {\n",
       "        vertical-align: middle;\n",
       "    }\n",
       "\n",
       "    .dataframe tbody tr th {\n",
       "        vertical-align: top;\n",
       "    }\n",
       "\n",
       "    .dataframe thead th {\n",
       "        text-align: right;\n",
       "    }\n",
       "</style>\n",
       "<table border=\"1\" class=\"dataframe\">\n",
       "  <thead>\n",
       "    <tr style=\"text-align: right;\">\n",
       "      <th></th>\n",
       "      <th>Tanggal</th>\n",
       "      <th>Jenis Produk</th>\n",
       "      <th>Jumlah Order</th>\n",
       "      <th>Harga</th>\n",
       "      <th>Total</th>\n",
       "    </tr>\n",
       "  </thead>\n",
       "  <tbody>\n",
       "    <tr>\n",
       "      <th>0</th>\n",
       "      <td>05/08/2022</td>\n",
       "      <td>Foodpak260</td>\n",
       "      <td>1000</td>\n",
       "      <td>1800</td>\n",
       "      <td>1800000</td>\n",
       "    </tr>\n",
       "    <tr>\n",
       "      <th>1</th>\n",
       "      <td>05/08/2022</td>\n",
       "      <td>FoodpakMatte245</td>\n",
       "      <td>1000</td>\n",
       "      <td>1900</td>\n",
       "      <td>1900000</td>\n",
       "    </tr>\n",
       "    <tr>\n",
       "      <th>2</th>\n",
       "      <td>05/08/2022</td>\n",
       "      <td>CraftLaminasi290</td>\n",
       "      <td>5000</td>\n",
       "      <td>750</td>\n",
       "      <td>3750000</td>\n",
       "    </tr>\n",
       "    <tr>\n",
       "      <th>3</th>\n",
       "      <td>05/08/2022</td>\n",
       "      <td>CraftLaminasi290</td>\n",
       "      <td>1000</td>\n",
       "      <td>1200</td>\n",
       "      <td>1200000</td>\n",
       "    </tr>\n",
       "    <tr>\n",
       "      <th>4</th>\n",
       "      <td>07/08/2022</td>\n",
       "      <td>Dupleks310</td>\n",
       "      <td>1000</td>\n",
       "      <td>1550</td>\n",
       "      <td>1550000</td>\n",
       "    </tr>\n",
       "    <tr>\n",
       "      <th>...</th>\n",
       "      <td>...</td>\n",
       "      <td>...</td>\n",
       "      <td>...</td>\n",
       "      <td>...</td>\n",
       "      <td>...</td>\n",
       "    </tr>\n",
       "    <tr>\n",
       "      <th>1071</th>\n",
       "      <td>14/11/2023</td>\n",
       "      <td>Ivory230</td>\n",
       "      <td>1000</td>\n",
       "      <td>900</td>\n",
       "      <td>900000</td>\n",
       "    </tr>\n",
       "    <tr>\n",
       "      <th>1072</th>\n",
       "      <td>15/11/2023</td>\n",
       "      <td>CraftLaminasi290</td>\n",
       "      <td>2000</td>\n",
       "      <td>800</td>\n",
       "      <td>1600000</td>\n",
       "    </tr>\n",
       "    <tr>\n",
       "      <th>1073</th>\n",
       "      <td>15/11/2023</td>\n",
       "      <td>CraftLaminasi290</td>\n",
       "      <td>1500</td>\n",
       "      <td>875</td>\n",
       "      <td>1312500</td>\n",
       "    </tr>\n",
       "    <tr>\n",
       "      <th>1074</th>\n",
       "      <td>15/11/2023</td>\n",
       "      <td>FoodpakMatte</td>\n",
       "      <td>1000</td>\n",
       "      <td>2200</td>\n",
       "      <td>2200000</td>\n",
       "    </tr>\n",
       "    <tr>\n",
       "      <th>1075</th>\n",
       "      <td>15/11/2023</td>\n",
       "      <td>GreaseProof</td>\n",
       "      <td>1000</td>\n",
       "      <td>300</td>\n",
       "      <td>300000</td>\n",
       "    </tr>\n",
       "  </tbody>\n",
       "</table>\n",
       "<p>1076 rows × 5 columns</p>\n",
       "</div>"
      ],
      "text/plain": [
       "         Tanggal      Jenis Produk  Jumlah Order  Harga    Total\n",
       "0     05/08/2022        Foodpak260          1000   1800  1800000\n",
       "1     05/08/2022   FoodpakMatte245          1000   1900  1900000\n",
       "2     05/08/2022  CraftLaminasi290          5000    750  3750000\n",
       "3     05/08/2022  CraftLaminasi290          1000   1200  1200000\n",
       "4     07/08/2022        Dupleks310          1000   1550  1550000\n",
       "...          ...               ...           ...    ...      ...\n",
       "1071  14/11/2023          Ivory230          1000    900   900000\n",
       "1072  15/11/2023  CraftLaminasi290          2000    800  1600000\n",
       "1073  15/11/2023  CraftLaminasi290          1500    875  1312500\n",
       "1074  15/11/2023      FoodpakMatte          1000   2200  2200000\n",
       "1075  15/11/2023       GreaseProof          1000    300   300000\n",
       "\n",
       "[1076 rows x 5 columns]"
      ]
     },
     "execution_count": 4,
     "metadata": {},
     "output_type": "execute_result"
    }
   ],
   "source": [
    "# Import dataset\n",
    "df=pd.read_csv(\"data_penjualan.csv\",delimiter=\";\")\n",
    "df"
   ]
  },
  {
   "cell_type": "code",
   "execution_count": 5,
   "id": "36e8a3e5-9fc8-48cd-8605-8caa4c05c739",
   "metadata": {},
   "outputs": [
    {
     "data": {
      "text/html": [
       "<div>\n",
       "<style scoped>\n",
       "    .dataframe tbody tr th:only-of-type {\n",
       "        vertical-align: middle;\n",
       "    }\n",
       "\n",
       "    .dataframe tbody tr th {\n",
       "        vertical-align: top;\n",
       "    }\n",
       "\n",
       "    .dataframe thead th {\n",
       "        text-align: right;\n",
       "    }\n",
       "</style>\n",
       "<table border=\"1\" class=\"dataframe\">\n",
       "  <thead>\n",
       "    <tr style=\"text-align: right;\">\n",
       "      <th></th>\n",
       "      <th>Tanggal</th>\n",
       "      <th>Jenis Produk</th>\n",
       "      <th>Jumlah Order</th>\n",
       "      <th>Harga</th>\n",
       "      <th>Total</th>\n",
       "    </tr>\n",
       "  </thead>\n",
       "  <tbody>\n",
       "    <tr>\n",
       "      <th>1</th>\n",
       "      <td>05/08/2022</td>\n",
       "      <td>FoodpakMatte245</td>\n",
       "      <td>1000</td>\n",
       "      <td>1900</td>\n",
       "      <td>1900000</td>\n",
       "    </tr>\n",
       "    <tr>\n",
       "      <th>37</th>\n",
       "      <td>18/08/2022</td>\n",
       "      <td>FoodpakMatte245</td>\n",
       "      <td>1000</td>\n",
       "      <td>1800</td>\n",
       "      <td>1800000</td>\n",
       "    </tr>\n",
       "    <tr>\n",
       "      <th>92</th>\n",
       "      <td>19/09/2022</td>\n",
       "      <td>FoodpakMatte245</td>\n",
       "      <td>2500</td>\n",
       "      <td>700</td>\n",
       "      <td>1750000</td>\n",
       "    </tr>\n",
       "    <tr>\n",
       "      <th>362</th>\n",
       "      <td>06/01/2023</td>\n",
       "      <td>FoodpakMatte245</td>\n",
       "      <td>1000</td>\n",
       "      <td>1500</td>\n",
       "      <td>1500000</td>\n",
       "    </tr>\n",
       "    <tr>\n",
       "      <th>371</th>\n",
       "      <td>06/01/2023</td>\n",
       "      <td>FoodpakMatte245</td>\n",
       "      <td>4000</td>\n",
       "      <td>1000</td>\n",
       "      <td>4000000</td>\n",
       "    </tr>\n",
       "    <tr>\n",
       "      <th>385</th>\n",
       "      <td>01/02/2023</td>\n",
       "      <td>FoodpakMatte245</td>\n",
       "      <td>1000</td>\n",
       "      <td>900</td>\n",
       "      <td>900000</td>\n",
       "    </tr>\n",
       "    <tr>\n",
       "      <th>388</th>\n",
       "      <td>01/02/2023</td>\n",
       "      <td>FoodpakMatte245</td>\n",
       "      <td>1000</td>\n",
       "      <td>1600</td>\n",
       "      <td>1600000</td>\n",
       "    </tr>\n",
       "    <tr>\n",
       "      <th>397</th>\n",
       "      <td>09/02/2023</td>\n",
       "      <td>FoodpakMatte245</td>\n",
       "      <td>1000</td>\n",
       "      <td>1200</td>\n",
       "      <td>1200000</td>\n",
       "    </tr>\n",
       "    <tr>\n",
       "      <th>430</th>\n",
       "      <td>19/02/2023</td>\n",
       "      <td>FoodpakMatte245</td>\n",
       "      <td>2000</td>\n",
       "      <td>1500</td>\n",
       "      <td>3000000</td>\n",
       "    </tr>\n",
       "    <tr>\n",
       "      <th>447</th>\n",
       "      <td>06/03/2023</td>\n",
       "      <td>FoodpakMatte245</td>\n",
       "      <td>2000</td>\n",
       "      <td>1500</td>\n",
       "      <td>3000000</td>\n",
       "    </tr>\n",
       "    <tr>\n",
       "      <th>482</th>\n",
       "      <td>23/03/2023</td>\n",
       "      <td>FoodpakMatte245</td>\n",
       "      <td>5000</td>\n",
       "      <td>1500</td>\n",
       "      <td>7500000</td>\n",
       "    </tr>\n",
       "    <tr>\n",
       "      <th>483</th>\n",
       "      <td>23/03/2023</td>\n",
       "      <td>FoodpakMatte245</td>\n",
       "      <td>4000</td>\n",
       "      <td>1050</td>\n",
       "      <td>4200000</td>\n",
       "    </tr>\n",
       "    <tr>\n",
       "      <th>493</th>\n",
       "      <td>28/03/2023</td>\n",
       "      <td>FoodpakMatte245</td>\n",
       "      <td>3000</td>\n",
       "      <td>1200</td>\n",
       "      <td>3600000</td>\n",
       "    </tr>\n",
       "    <tr>\n",
       "      <th>494</th>\n",
       "      <td>29/03/2023</td>\n",
       "      <td>FoodpakMatte245</td>\n",
       "      <td>3500</td>\n",
       "      <td>1200</td>\n",
       "      <td>4200000</td>\n",
       "    </tr>\n",
       "    <tr>\n",
       "      <th>495</th>\n",
       "      <td>29/03/2023</td>\n",
       "      <td>FoodpakMatte245</td>\n",
       "      <td>1000</td>\n",
       "      <td>1200</td>\n",
       "      <td>1200000</td>\n",
       "    </tr>\n",
       "    <tr>\n",
       "      <th>500</th>\n",
       "      <td>03/04/2023</td>\n",
       "      <td>FoodpakMatte245</td>\n",
       "      <td>3000</td>\n",
       "      <td>1500</td>\n",
       "      <td>4500000</td>\n",
       "    </tr>\n",
       "    <tr>\n",
       "      <th>512</th>\n",
       "      <td>10/04/2023</td>\n",
       "      <td>FoodpakMatte245</td>\n",
       "      <td>1000</td>\n",
       "      <td>1200</td>\n",
       "      <td>1200000</td>\n",
       "    </tr>\n",
       "    <tr>\n",
       "      <th>518</th>\n",
       "      <td>13/04/2023</td>\n",
       "      <td>FoodpakMatte245</td>\n",
       "      <td>3500</td>\n",
       "      <td>1000</td>\n",
       "      <td>3500000</td>\n",
       "    </tr>\n",
       "    <tr>\n",
       "      <th>534</th>\n",
       "      <td>25/04/2023</td>\n",
       "      <td>FoodpakMatte245</td>\n",
       "      <td>5000</td>\n",
       "      <td>1500</td>\n",
       "      <td>7500000</td>\n",
       "    </tr>\n",
       "    <tr>\n",
       "      <th>576</th>\n",
       "      <td>06/05/2023</td>\n",
       "      <td>FoodpakMatte245</td>\n",
       "      <td>5000</td>\n",
       "      <td>1500</td>\n",
       "      <td>7500000</td>\n",
       "    </tr>\n",
       "    <tr>\n",
       "      <th>579</th>\n",
       "      <td>08/05/2023</td>\n",
       "      <td>FoodpakMatte245</td>\n",
       "      <td>1000</td>\n",
       "      <td>1800</td>\n",
       "      <td>1800000</td>\n",
       "    </tr>\n",
       "    <tr>\n",
       "      <th>592</th>\n",
       "      <td>17/05/2023</td>\n",
       "      <td>FoodpakMatte245</td>\n",
       "      <td>1000</td>\n",
       "      <td>850</td>\n",
       "      <td>850000</td>\n",
       "    </tr>\n",
       "    <tr>\n",
       "      <th>614</th>\n",
       "      <td>26/05/2023</td>\n",
       "      <td>FoodpakMatte245</td>\n",
       "      <td>6000</td>\n",
       "      <td>1100</td>\n",
       "      <td>6600000</td>\n",
       "    </tr>\n",
       "    <tr>\n",
       "      <th>624</th>\n",
       "      <td>31/05/2023</td>\n",
       "      <td>FoodpakMatte245</td>\n",
       "      <td>3000</td>\n",
       "      <td>1500</td>\n",
       "      <td>4500000</td>\n",
       "    </tr>\n",
       "    <tr>\n",
       "      <th>631</th>\n",
       "      <td>03/06/2023</td>\n",
       "      <td>FoodpakMatte245</td>\n",
       "      <td>1000</td>\n",
       "      <td>1200</td>\n",
       "      <td>1200000</td>\n",
       "    </tr>\n",
       "    <tr>\n",
       "      <th>670</th>\n",
       "      <td>16/06/2023</td>\n",
       "      <td>FoodpakMatte245</td>\n",
       "      <td>2000</td>\n",
       "      <td>1500</td>\n",
       "      <td>3000000</td>\n",
       "    </tr>\n",
       "    <tr>\n",
       "      <th>680</th>\n",
       "      <td>23/06/2023</td>\n",
       "      <td>FoodpakMatte245</td>\n",
       "      <td>2000</td>\n",
       "      <td>1000</td>\n",
       "      <td>2000000</td>\n",
       "    </tr>\n",
       "    <tr>\n",
       "      <th>681</th>\n",
       "      <td>26/06/2023</td>\n",
       "      <td>FoodpakMatte245</td>\n",
       "      <td>1000</td>\n",
       "      <td>1500</td>\n",
       "      <td>1500000</td>\n",
       "    </tr>\n",
       "    <tr>\n",
       "      <th>682</th>\n",
       "      <td>26/06/2023</td>\n",
       "      <td>FoodpakMatte245</td>\n",
       "      <td>3000</td>\n",
       "      <td>1500</td>\n",
       "      <td>4500000</td>\n",
       "    </tr>\n",
       "    <tr>\n",
       "      <th>732</th>\n",
       "      <td>15/07/2023</td>\n",
       "      <td>FoodpakMatte245</td>\n",
       "      <td>3000</td>\n",
       "      <td>1500</td>\n",
       "      <td>4500000</td>\n",
       "    </tr>\n",
       "    <tr>\n",
       "      <th>772</th>\n",
       "      <td>27/07/2023</td>\n",
       "      <td>FoodpakMatte245</td>\n",
       "      <td>2000</td>\n",
       "      <td>1000</td>\n",
       "      <td>2000000</td>\n",
       "    </tr>\n",
       "    <tr>\n",
       "      <th>775</th>\n",
       "      <td>31/07/2023</td>\n",
       "      <td>FoodpakMatte245</td>\n",
       "      <td>3000</td>\n",
       "      <td>1500</td>\n",
       "      <td>4500000</td>\n",
       "    </tr>\n",
       "    <tr>\n",
       "      <th>796</th>\n",
       "      <td>07/08/2023</td>\n",
       "      <td>FoodpakMatte245</td>\n",
       "      <td>2000</td>\n",
       "      <td>1000</td>\n",
       "      <td>2000000</td>\n",
       "    </tr>\n",
       "    <tr>\n",
       "      <th>801</th>\n",
       "      <td>07/08/2023</td>\n",
       "      <td>FoodpakMatte245</td>\n",
       "      <td>6000</td>\n",
       "      <td>1100</td>\n",
       "      <td>6600000</td>\n",
       "    </tr>\n",
       "    <tr>\n",
       "      <th>803</th>\n",
       "      <td>09/08/2023</td>\n",
       "      <td>FoodpakMatte245</td>\n",
       "      <td>1000</td>\n",
       "      <td>1500</td>\n",
       "      <td>1500000</td>\n",
       "    </tr>\n",
       "    <tr>\n",
       "      <th>829</th>\n",
       "      <td>20/08/2023</td>\n",
       "      <td>FoodpakMatte245</td>\n",
       "      <td>4000</td>\n",
       "      <td>1500</td>\n",
       "      <td>6000000</td>\n",
       "    </tr>\n",
       "    <tr>\n",
       "      <th>857</th>\n",
       "      <td>27/08/2023</td>\n",
       "      <td>FoodpakMatte245</td>\n",
       "      <td>1000</td>\n",
       "      <td>1500</td>\n",
       "      <td>1500000</td>\n",
       "    </tr>\n",
       "    <tr>\n",
       "      <th>875</th>\n",
       "      <td>31/08/2023</td>\n",
       "      <td>FoodpakMatte245</td>\n",
       "      <td>1000</td>\n",
       "      <td>1500</td>\n",
       "      <td>1500000</td>\n",
       "    </tr>\n",
       "    <tr>\n",
       "      <th>915</th>\n",
       "      <td>17/09/2023</td>\n",
       "      <td>FoodpakMatte245</td>\n",
       "      <td>2000</td>\n",
       "      <td>1000</td>\n",
       "      <td>2000000</td>\n",
       "    </tr>\n",
       "    <tr>\n",
       "      <th>939</th>\n",
       "      <td>26/09/2023</td>\n",
       "      <td>FoodpakMatte245</td>\n",
       "      <td>1000</td>\n",
       "      <td>600</td>\n",
       "      <td>600000</td>\n",
       "    </tr>\n",
       "    <tr>\n",
       "      <th>940</th>\n",
       "      <td>26/09/2023</td>\n",
       "      <td>FoodpakMatte245</td>\n",
       "      <td>1000</td>\n",
       "      <td>1100</td>\n",
       "      <td>1100000</td>\n",
       "    </tr>\n",
       "    <tr>\n",
       "      <th>977</th>\n",
       "      <td>12/10/2023</td>\n",
       "      <td>FoodpakMatte245</td>\n",
       "      <td>1000</td>\n",
       "      <td>1500</td>\n",
       "      <td>1500000</td>\n",
       "    </tr>\n",
       "    <tr>\n",
       "      <th>978</th>\n",
       "      <td>12/10/2023</td>\n",
       "      <td>FoodpakMatte245</td>\n",
       "      <td>4000</td>\n",
       "      <td>1500</td>\n",
       "      <td>6000000</td>\n",
       "    </tr>\n",
       "    <tr>\n",
       "      <th>985</th>\n",
       "      <td>14/10/2023</td>\n",
       "      <td>FoodpakMatte245</td>\n",
       "      <td>500</td>\n",
       "      <td>1500</td>\n",
       "      <td>750000</td>\n",
       "    </tr>\n",
       "    <tr>\n",
       "      <th>986</th>\n",
       "      <td>14/10/2023</td>\n",
       "      <td>FoodpakMatte245</td>\n",
       "      <td>500</td>\n",
       "      <td>1300</td>\n",
       "      <td>650000</td>\n",
       "    </tr>\n",
       "    <tr>\n",
       "      <th>994</th>\n",
       "      <td>18/10/2023</td>\n",
       "      <td>FoodpakMatte245</td>\n",
       "      <td>2000</td>\n",
       "      <td>1000</td>\n",
       "      <td>2000000</td>\n",
       "    </tr>\n",
       "    <tr>\n",
       "      <th>1002</th>\n",
       "      <td>20/10/2023</td>\n",
       "      <td>FoodpakMatte245</td>\n",
       "      <td>1000</td>\n",
       "      <td>2400</td>\n",
       "      <td>2400000</td>\n",
       "    </tr>\n",
       "    <tr>\n",
       "      <th>1010</th>\n",
       "      <td>24/10/2023</td>\n",
       "      <td>FoodpakMatte245</td>\n",
       "      <td>1000</td>\n",
       "      <td>1700</td>\n",
       "      <td>1700000</td>\n",
       "    </tr>\n",
       "    <tr>\n",
       "      <th>1029</th>\n",
       "      <td>30/10/2023</td>\n",
       "      <td>FoodpakMatte245</td>\n",
       "      <td>4000</td>\n",
       "      <td>1500</td>\n",
       "      <td>6000000</td>\n",
       "    </tr>\n",
       "    <tr>\n",
       "      <th>1031</th>\n",
       "      <td>31/10/2023</td>\n",
       "      <td>FoodpakMatte245</td>\n",
       "      <td>2000</td>\n",
       "      <td>1000</td>\n",
       "      <td>2000000</td>\n",
       "    </tr>\n",
       "    <tr>\n",
       "      <th>1035</th>\n",
       "      <td>03/11/2023</td>\n",
       "      <td>FoodpakMatte245</td>\n",
       "      <td>1000</td>\n",
       "      <td>1600</td>\n",
       "      <td>1600000</td>\n",
       "    </tr>\n",
       "    <tr>\n",
       "      <th>1036</th>\n",
       "      <td>03/11/2023</td>\n",
       "      <td>FoodpakMatte245</td>\n",
       "      <td>1000</td>\n",
       "      <td>1600</td>\n",
       "      <td>1600000</td>\n",
       "    </tr>\n",
       "    <tr>\n",
       "      <th>1039</th>\n",
       "      <td>03/11/2023</td>\n",
       "      <td>FoodpakMatte245</td>\n",
       "      <td>1000</td>\n",
       "      <td>1500</td>\n",
       "      <td>1500000</td>\n",
       "    </tr>\n",
       "    <tr>\n",
       "      <th>1049</th>\n",
       "      <td>07/11/2023</td>\n",
       "      <td>FoodpakMatte245</td>\n",
       "      <td>1000</td>\n",
       "      <td>1500</td>\n",
       "      <td>1500000</td>\n",
       "    </tr>\n",
       "  </tbody>\n",
       "</table>\n",
       "</div>"
      ],
      "text/plain": [
       "         Tanggal     Jenis Produk  Jumlah Order  Harga    Total\n",
       "1     05/08/2022  FoodpakMatte245          1000   1900  1900000\n",
       "37    18/08/2022  FoodpakMatte245          1000   1800  1800000\n",
       "92    19/09/2022  FoodpakMatte245          2500    700  1750000\n",
       "362   06/01/2023  FoodpakMatte245          1000   1500  1500000\n",
       "371   06/01/2023  FoodpakMatte245          4000   1000  4000000\n",
       "385   01/02/2023  FoodpakMatte245          1000    900   900000\n",
       "388   01/02/2023  FoodpakMatte245          1000   1600  1600000\n",
       "397   09/02/2023  FoodpakMatte245          1000   1200  1200000\n",
       "430   19/02/2023  FoodpakMatte245          2000   1500  3000000\n",
       "447   06/03/2023  FoodpakMatte245          2000   1500  3000000\n",
       "482   23/03/2023  FoodpakMatte245          5000   1500  7500000\n",
       "483   23/03/2023  FoodpakMatte245          4000   1050  4200000\n",
       "493   28/03/2023  FoodpakMatte245          3000   1200  3600000\n",
       "494   29/03/2023  FoodpakMatte245          3500   1200  4200000\n",
       "495   29/03/2023  FoodpakMatte245          1000   1200  1200000\n",
       "500   03/04/2023  FoodpakMatte245          3000   1500  4500000\n",
       "512   10/04/2023  FoodpakMatte245          1000   1200  1200000\n",
       "518   13/04/2023  FoodpakMatte245          3500   1000  3500000\n",
       "534   25/04/2023  FoodpakMatte245          5000   1500  7500000\n",
       "576   06/05/2023  FoodpakMatte245          5000   1500  7500000\n",
       "579   08/05/2023  FoodpakMatte245          1000   1800  1800000\n",
       "592   17/05/2023  FoodpakMatte245          1000    850   850000\n",
       "614   26/05/2023  FoodpakMatte245          6000   1100  6600000\n",
       "624   31/05/2023  FoodpakMatte245          3000   1500  4500000\n",
       "631   03/06/2023  FoodpakMatte245          1000   1200  1200000\n",
       "670   16/06/2023  FoodpakMatte245          2000   1500  3000000\n",
       "680   23/06/2023  FoodpakMatte245          2000   1000  2000000\n",
       "681   26/06/2023  FoodpakMatte245          1000   1500  1500000\n",
       "682   26/06/2023  FoodpakMatte245          3000   1500  4500000\n",
       "732   15/07/2023  FoodpakMatte245          3000   1500  4500000\n",
       "772   27/07/2023  FoodpakMatte245          2000   1000  2000000\n",
       "775   31/07/2023  FoodpakMatte245          3000   1500  4500000\n",
       "796   07/08/2023  FoodpakMatte245          2000   1000  2000000\n",
       "801   07/08/2023  FoodpakMatte245          6000   1100  6600000\n",
       "803   09/08/2023  FoodpakMatte245          1000   1500  1500000\n",
       "829   20/08/2023  FoodpakMatte245          4000   1500  6000000\n",
       "857   27/08/2023  FoodpakMatte245          1000   1500  1500000\n",
       "875   31/08/2023  FoodpakMatte245          1000   1500  1500000\n",
       "915   17/09/2023  FoodpakMatte245          2000   1000  2000000\n",
       "939   26/09/2023  FoodpakMatte245          1000    600   600000\n",
       "940   26/09/2023  FoodpakMatte245          1000   1100  1100000\n",
       "977   12/10/2023  FoodpakMatte245          1000   1500  1500000\n",
       "978   12/10/2023  FoodpakMatte245          4000   1500  6000000\n",
       "985   14/10/2023  FoodpakMatte245           500   1500   750000\n",
       "986   14/10/2023  FoodpakMatte245           500   1300   650000\n",
       "994   18/10/2023  FoodpakMatte245          2000   1000  2000000\n",
       "1002  20/10/2023  FoodpakMatte245          1000   2400  2400000\n",
       "1010  24/10/2023  FoodpakMatte245          1000   1700  1700000\n",
       "1029  30/10/2023  FoodpakMatte245          4000   1500  6000000\n",
       "1031  31/10/2023  FoodpakMatte245          2000   1000  2000000\n",
       "1035  03/11/2023  FoodpakMatte245          1000   1600  1600000\n",
       "1036  03/11/2023  FoodpakMatte245          1000   1600  1600000\n",
       "1039  03/11/2023  FoodpakMatte245          1000   1500  1500000\n",
       "1049  07/11/2023  FoodpakMatte245          1000   1500  1500000"
      ]
     },
     "execution_count": 5,
     "metadata": {},
     "output_type": "execute_result"
    }
   ],
   "source": [
    "# Memfilter dataset untuk menampilkan produk 'FoodpakMatte245'\n",
    "fm=df[df[\"Jenis Produk\"]==\"FoodpakMatte245\"].copy()\n",
    "fm"
   ]
  },
  {
   "cell_type": "code",
   "execution_count": 6,
   "id": "2c4635a4-115f-4a61-b169-f6cc9fca803c",
   "metadata": {},
   "outputs": [
    {
     "name": "stdout",
     "output_type": "stream",
     "text": [
      "<class 'pandas.core.frame.DataFrame'>\n",
      "Index: 54 entries, 1 to 1049\n",
      "Data columns (total 5 columns):\n",
      " #   Column        Non-Null Count  Dtype \n",
      "---  ------        --------------  ----- \n",
      " 0   Tanggal       54 non-null     object\n",
      " 1   Jenis Produk  54 non-null     object\n",
      " 2   Jumlah Order  54 non-null     int64 \n",
      " 3   Harga         54 non-null     int64 \n",
      " 4   Total         54 non-null     int64 \n",
      "dtypes: int64(3), object(2)\n",
      "memory usage: 2.5+ KB\n"
     ]
    }
   ],
   "source": [
    "# informasi tipe data sebelum diubah\n",
    "fm.info()"
   ]
  },
  {
   "cell_type": "code",
   "execution_count": 7,
   "id": "b2ac8f31-81a9-4480-92e8-e4ca19b3983f",
   "metadata": {},
   "outputs": [],
   "source": [
    "# Mengubah kolom 'Tanggal' menjadi format datetime\n",
    "fm[\"Tanggal\"]=pd.to_datetime(fm[\"Tanggal\"],format=\"%d/%m/%Y\")"
   ]
  },
  {
   "cell_type": "code",
   "execution_count": 8,
   "id": "e62900df-8722-4212-805e-b455402451f4",
   "metadata": {},
   "outputs": [
    {
     "name": "stdout",
     "output_type": "stream",
     "text": [
      "<class 'pandas.core.frame.DataFrame'>\n",
      "Index: 54 entries, 1 to 1049\n",
      "Data columns (total 5 columns):\n",
      " #   Column        Non-Null Count  Dtype         \n",
      "---  ------        --------------  -----         \n",
      " 0   Tanggal       54 non-null     datetime64[ns]\n",
      " 1   Jenis Produk  54 non-null     object        \n",
      " 2   Jumlah Order  54 non-null     int64         \n",
      " 3   Harga         54 non-null     int64         \n",
      " 4   Total         54 non-null     int64         \n",
      "dtypes: datetime64[ns](1), int64(3), object(1)\n",
      "memory usage: 2.5+ KB\n"
     ]
    }
   ],
   "source": [
    "# informasi tipe data setelah diubah\n",
    "fm.info()"
   ]
  },
  {
   "cell_type": "markdown",
   "id": "45e76c65-3a0f-483a-93d0-c0b14d84b96c",
   "metadata": {},
   "source": [
    "\n"
   ]
  },
  {
   "cell_type": "markdown",
   "id": "e78b29c9-06ff-4d66-9308-e50adc8c8ac3",
   "metadata": {},
   "source": [
    "ANALISIS PENJUALAN PRODUK 'FoodpakMatte245' SETIAP BULAN "
   ]
  },
  {
   "cell_type": "code",
   "execution_count": 11,
   "id": "e5adae21-e714-4d52-a1a8-9e7c52889886",
   "metadata": {},
   "outputs": [
    {
     "data": {
      "text/plain": [
       "3700000"
      ]
     },
     "execution_count": 11,
     "metadata": {},
     "output_type": "execute_result"
    }
   ],
   "source": [
    "# Total penjualan di bulan 8 tahun 2022\n",
    "fm822=fm.loc[(fm[\"Tanggal\"].dt.month==8) & (fm[\"Tanggal\"].dt.year==2022), \"Total\"].sum()\n",
    "fm822"
   ]
  },
  {
   "cell_type": "code",
   "execution_count": 12,
   "id": "c35025e7-1c80-4cca-b2d5-e3adf63fee16",
   "metadata": {},
   "outputs": [
    {
     "data": {
      "text/plain": [
       "1750000"
      ]
     },
     "execution_count": 12,
     "metadata": {},
     "output_type": "execute_result"
    }
   ],
   "source": [
    "# Total penjualan di bulan 9 tahun 2022\n",
    "fm922=fm.loc[(fm[\"Tanggal\"].dt.month==9) & (fm[\"Tanggal\"].dt.year==2022), \"Total\"].sum()\n",
    "fm922"
   ]
  },
  {
   "cell_type": "code",
   "execution_count": 13,
   "id": "aeadc023-c7d3-422b-82fc-8247706f4fdf",
   "metadata": {},
   "outputs": [
    {
     "data": {
      "text/plain": [
       "5500000"
      ]
     },
     "execution_count": 13,
     "metadata": {},
     "output_type": "execute_result"
    }
   ],
   "source": [
    "# Total penjualan di bulan 1 tahun 2023\n",
    "fm123=fm.loc[(fm[\"Tanggal\"].dt.month==1) & (fm[\"Tanggal\"].dt.year==2023), \"Total\"].sum()\n",
    "fm123"
   ]
  },
  {
   "cell_type": "code",
   "execution_count": 14,
   "id": "62dca3b3-c2c5-49b6-849f-a5e9bab8abde",
   "metadata": {},
   "outputs": [
    {
     "data": {
      "text/plain": [
       "6700000"
      ]
     },
     "execution_count": 14,
     "metadata": {},
     "output_type": "execute_result"
    }
   ],
   "source": [
    "# Total penjualan di bulan 2 tahun 2023\n",
    "fm223=fm.loc[(fm[\"Tanggal\"].dt.month==2) & (fm[\"Tanggal\"].dt.year==2023), \"Total\"].sum()\n",
    "fm223"
   ]
  },
  {
   "cell_type": "code",
   "execution_count": 15,
   "id": "1ae59b63-09df-42fd-8289-74560f0cd768",
   "metadata": {},
   "outputs": [
    {
     "data": {
      "text/plain": [
       "23700000"
      ]
     },
     "execution_count": 15,
     "metadata": {},
     "output_type": "execute_result"
    }
   ],
   "source": [
    "# Total penjualan di bulan 3 tahun 2023\n",
    "fm323=fm.loc[(fm[\"Tanggal\"].dt.month==3) & (fm[\"Tanggal\"].dt.year==2023), \"Total\"].sum()\n",
    "fm323"
   ]
  },
  {
   "cell_type": "code",
   "execution_count": 16,
   "id": "87e9404c-3e49-4a58-82d4-71fa7a1103fc",
   "metadata": {},
   "outputs": [
    {
     "data": {
      "text/plain": [
       "16700000"
      ]
     },
     "execution_count": 16,
     "metadata": {},
     "output_type": "execute_result"
    }
   ],
   "source": [
    "# Total penjualan di bulan 4 tahun 2023\n",
    "fm423=fm.loc[(fm[\"Tanggal\"].dt.month==4) & (fm[\"Tanggal\"].dt.year==2023), \"Total\"].sum()\n",
    "fm423"
   ]
  },
  {
   "cell_type": "code",
   "execution_count": 17,
   "id": "1209c4dd-9382-453c-abb6-7544ef115644",
   "metadata": {},
   "outputs": [
    {
     "data": {
      "text/plain": [
       "21250000"
      ]
     },
     "execution_count": 17,
     "metadata": {},
     "output_type": "execute_result"
    }
   ],
   "source": [
    "# Total penjualan di bulan 5 tahun 2023\n",
    "fm523=fm.loc[(fm[\"Tanggal\"].dt.month==5) & (fm[\"Tanggal\"].dt.year==2023), \"Total\"].sum()\n",
    "fm523"
   ]
  },
  {
   "cell_type": "code",
   "execution_count": 18,
   "id": "83d8b194-f62f-4e04-97a7-51abe104b58d",
   "metadata": {},
   "outputs": [
    {
     "data": {
      "text/plain": [
       "12200000"
      ]
     },
     "execution_count": 18,
     "metadata": {},
     "output_type": "execute_result"
    }
   ],
   "source": [
    "# Total penjualan di bulan 6 tahun 2023\n",
    "fm623=fm.loc[(fm[\"Tanggal\"].dt.month==6) & (fm[\"Tanggal\"].dt.year==2023), \"Total\"].sum()\n",
    "fm623"
   ]
  },
  {
   "cell_type": "code",
   "execution_count": 19,
   "id": "5c44e00b-66e3-431a-b070-a370c1ca444f",
   "metadata": {},
   "outputs": [
    {
     "data": {
      "text/plain": [
       "11000000"
      ]
     },
     "execution_count": 19,
     "metadata": {},
     "output_type": "execute_result"
    }
   ],
   "source": [
    "# Total penjualan di bulan 7 tahun 2023\n",
    "fm723=fm.loc[(fm[\"Tanggal\"].dt.month==7) & (fm[\"Tanggal\"].dt.year==2023), \"Total\"].sum()\n",
    "fm723"
   ]
  },
  {
   "cell_type": "code",
   "execution_count": 20,
   "id": "6b4f8914-00a7-490d-a541-2b8fe3fa2bec",
   "metadata": {},
   "outputs": [
    {
     "data": {
      "text/plain": [
       "19100000"
      ]
     },
     "execution_count": 20,
     "metadata": {},
     "output_type": "execute_result"
    }
   ],
   "source": [
    "# Total penjualan di bulan 8 tahun 2023\n",
    "fm823=fm.loc[(fm[\"Tanggal\"].dt.month==8) & (fm[\"Tanggal\"].dt.year==2023), \"Total\"].sum()\n",
    "fm823"
   ]
  },
  {
   "cell_type": "code",
   "execution_count": 21,
   "id": "f00abda9-6aec-4181-ba6d-14f3f1908c6e",
   "metadata": {},
   "outputs": [
    {
     "data": {
      "text/plain": [
       "3700000"
      ]
     },
     "execution_count": 21,
     "metadata": {},
     "output_type": "execute_result"
    }
   ],
   "source": [
    "# Total penjualan di bulan 9 tahun 2023\n",
    "fm923=fm.loc[(fm[\"Tanggal\"].dt.month==9) & (fm[\"Tanggal\"].dt.year==2023), \"Total\"].sum()\n",
    "fm923"
   ]
  },
  {
   "cell_type": "code",
   "execution_count": 22,
   "id": "1c7b8c14-2736-4c80-8de0-c3d9b3698cd9",
   "metadata": {},
   "outputs": [
    {
     "data": {
      "text/plain": [
       "23000000"
      ]
     },
     "execution_count": 22,
     "metadata": {},
     "output_type": "execute_result"
    }
   ],
   "source": [
    "# Total penjualan di bulan 10 tahun 2023\n",
    "fm1023=fm.loc[(fm[\"Tanggal\"].dt.month==10) & (fm[\"Tanggal\"].dt.year==2023), \"Total\"].sum()\n",
    "fm1023"
   ]
  },
  {
   "cell_type": "code",
   "execution_count": 23,
   "id": "9c47bd8f-b574-4d63-bcf7-e4cdc5b8ad2c",
   "metadata": {},
   "outputs": [
    {
     "data": {
      "text/plain": [
       "6200000"
      ]
     },
     "execution_count": 23,
     "metadata": {},
     "output_type": "execute_result"
    }
   ],
   "source": [
    "# Total penjualan di bulan 11 tahun 2023\n",
    "fm1123=fm.loc[(fm[\"Tanggal\"].dt.month==11) & (fm[\"Tanggal\"].dt.year==2023), \"Total\"].sum()\n",
    "fm1123"
   ]
  },
  {
   "cell_type": "code",
   "execution_count": 24,
   "id": "74e6ffe0-8bc6-4ae5-979c-41cf0da99330",
   "metadata": {},
   "outputs": [
    {
     "data": {
      "text/html": [
       "<div>\n",
       "<style scoped>\n",
       "    .dataframe tbody tr th:only-of-type {\n",
       "        vertical-align: middle;\n",
       "    }\n",
       "\n",
       "    .dataframe tbody tr th {\n",
       "        vertical-align: top;\n",
       "    }\n",
       "\n",
       "    .dataframe thead th {\n",
       "        text-align: right;\n",
       "    }\n",
       "</style>\n",
       "<table border=\"1\" class=\"dataframe\">\n",
       "  <thead>\n",
       "    <tr style=\"text-align: right;\">\n",
       "      <th></th>\n",
       "      <th>Bulan/Tahun</th>\n",
       "      <th>Total Penjualan</th>\n",
       "    </tr>\n",
       "  </thead>\n",
       "  <tbody>\n",
       "    <tr>\n",
       "      <th>0</th>\n",
       "      <td>08/2022</td>\n",
       "      <td>3700000</td>\n",
       "    </tr>\n",
       "    <tr>\n",
       "      <th>1</th>\n",
       "      <td>09/2022</td>\n",
       "      <td>1750000</td>\n",
       "    </tr>\n",
       "    <tr>\n",
       "      <th>2</th>\n",
       "      <td>01/2023</td>\n",
       "      <td>5500000</td>\n",
       "    </tr>\n",
       "    <tr>\n",
       "      <th>3</th>\n",
       "      <td>02/2023</td>\n",
       "      <td>6700000</td>\n",
       "    </tr>\n",
       "    <tr>\n",
       "      <th>4</th>\n",
       "      <td>03/2023</td>\n",
       "      <td>23700000</td>\n",
       "    </tr>\n",
       "    <tr>\n",
       "      <th>5</th>\n",
       "      <td>04/2023</td>\n",
       "      <td>16700000</td>\n",
       "    </tr>\n",
       "    <tr>\n",
       "      <th>6</th>\n",
       "      <td>05/2023</td>\n",
       "      <td>21250000</td>\n",
       "    </tr>\n",
       "    <tr>\n",
       "      <th>7</th>\n",
       "      <td>06/2023</td>\n",
       "      <td>12200000</td>\n",
       "    </tr>\n",
       "    <tr>\n",
       "      <th>8</th>\n",
       "      <td>07/2023</td>\n",
       "      <td>11000000</td>\n",
       "    </tr>\n",
       "    <tr>\n",
       "      <th>9</th>\n",
       "      <td>08/2023</td>\n",
       "      <td>19100000</td>\n",
       "    </tr>\n",
       "    <tr>\n",
       "      <th>10</th>\n",
       "      <td>09/2023</td>\n",
       "      <td>3700000</td>\n",
       "    </tr>\n",
       "    <tr>\n",
       "      <th>11</th>\n",
       "      <td>10/2023</td>\n",
       "      <td>23000000</td>\n",
       "    </tr>\n",
       "    <tr>\n",
       "      <th>12</th>\n",
       "      <td>11/2023</td>\n",
       "      <td>6200000</td>\n",
       "    </tr>\n",
       "  </tbody>\n",
       "</table>\n",
       "</div>"
      ],
      "text/plain": [
       "   Bulan/Tahun  Total Penjualan\n",
       "0      08/2022          3700000\n",
       "1      09/2022          1750000\n",
       "2      01/2023          5500000\n",
       "3      02/2023          6700000\n",
       "4      03/2023         23700000\n",
       "5      04/2023         16700000\n",
       "6      05/2023         21250000\n",
       "7      06/2023         12200000\n",
       "8      07/2023         11000000\n",
       "9      08/2023         19100000\n",
       "10     09/2023          3700000\n",
       "11     10/2023         23000000\n",
       "12     11/2023          6200000"
      ]
     },
     "execution_count": 24,
     "metadata": {},
     "output_type": "execute_result"
    }
   ],
   "source": [
    "# membuat data frame total penjualan produk 'FoodpakMatte245' per bulan\n",
    "penjualan_perbulan={\"Bulan/Tahun\":[\"08/2022\",\"09/2022\",\"01/2023\",\"02/2023\",\"03/2023\",\"04/2023\",\"05/2023\",\"06/2023\",\"07/2023\",\"08/2023\",\"09/2023\",\"10/2023\",\"11/2023\"],\n",
    "                    \"Total Penjualan\":[fm822,fm922,fm123,fm223,fm323,fm423,fm523,fm623,fm723,fm823,fm923,fm1023,fm1123]}\n",
    "penjualan_perbulan=pd.DataFrame(penjualan_perbulan)\n",
    "penjualan_perbulan"
   ]
  },
  {
   "cell_type": "code",
   "execution_count": 25,
   "id": "3a2fbb83-02a1-47a4-984f-09d2784b0367",
   "metadata": {},
   "outputs": [
    {
     "data": {
      "image/png": "[encoded data removed]",
      "text/plain": [
       "<Figure size 1000x500 with 1 Axes>"
      ]
     },
     "metadata": {},
     "output_type": "display_data"
    }
   ],
   "source": [
    "# MEMBUAT DIAGRAM BATANG TOTAL PENJUALAN PRODUK 'FoodpakMatte245' PER BULAN\n",
    "\n",
    "plt.figure(figsize=(10,5))\n",
    "colors = plt.cm.Set3(np.linspace(0, 1, len(penjualan_perbulan[\"Bulan/Tahun\"])))\n",
    "bars = plt.bar(penjualan_perbulan[\"Bulan/Tahun\"], penjualan_perbulan[\"Total Penjualan\"], color=colors)\n",
    "for bar, label in zip(bars, penjualan_perbulan[\"Bulan/Tahun\"]):\n",
    "    bar.set_label(label)\n",
    "plt.legend(title=\"Bulan/Tahun\", bbox_to_anchor=(1.05, 1), loc='upper left')\n",
    "plt.title(\"Total Penjualan Produk FoodpakMatte245 per Bulan\")\n",
    "plt.xlabel(\"Bulan/Tahun\")\n",
    "plt.ylabel(\"Total penjualan\")\n",
    "plt.xticks(rotation=90)\n",
    "plt.show()"
   ]
  },
  {
   "cell_type": "markdown",
   "id": "ef2f9b04-eced-4ba3-9422-e36d33d0c5af",
   "metadata": {},
   "source": [
    "\n"
   ]
  },
  {
   "cell_type": "markdown",
   "id": "ebcbdec0-0de4-4adb-b2b5-3ab7dd2e2464",
   "metadata": {},
   "source": [
    "VISUALISASI PENJUALAN PRODUK 'FoodpakMatte245' PER BULAN."
   ]
  },
  {
   "cell_type": "code",
   "execution_count": 28,
   "id": "40e0b624-c546-486d-9291-0dcc442b6a1c",
   "metadata": {},
   "outputs": [
    {
     "data": {
      "text/plain": [
       "1900000"
      ]
     },
     "execution_count": 28,
     "metadata": {},
     "output_type": "execute_result"
    }
   ],
   "source": [
    "# penjualan tertinggi di bulan 8 tahun 2022\n",
    "fm822_maks=fm.loc[(fm[\"Tanggal\"].dt.month==8) & (fm[\"Tanggal\"].dt.year==2022), \"Total\"].max()\n",
    "fm822_maks"
   ]
  },
  {
   "cell_type": "code",
   "execution_count": 29,
   "id": "221bbd36-b1af-4660-ab0e-bc7903e18ea7",
   "metadata": {},
   "outputs": [
    {
     "data": {
      "text/plain": [
       "1750000"
      ]
     },
     "execution_count": 29,
     "metadata": {},
     "output_type": "execute_result"
    }
   ],
   "source": [
    "# penjualan tertinggi di bulan 9 tahun 2022\n",
    "fm922_maks=fm.loc[(fm[\"Tanggal\"].dt.month==9) & (fm[\"Tanggal\"].dt.year==2022), \"Total\"].max()\n",
    "fm922_maks"
   ]
  },
  {
   "cell_type": "code",
   "execution_count": 30,
   "id": "4b3ed2c6-c38d-4b0d-8978-edea55566dc5",
   "metadata": {},
   "outputs": [
    {
     "data": {
      "text/plain": [
       "4000000"
      ]
     },
     "execution_count": 30,
     "metadata": {},
     "output_type": "execute_result"
    }
   ],
   "source": [
    "# penjualan tertinggi di bulan 1 tahun 2023\n",
    "fm123_maks=fm.loc[(fm[\"Tanggal\"].dt.month==1) & (fm[\"Tanggal\"].dt.year==2023), \"Total\"].max()\n",
    "fm123_maks"
   ]
  },
  {
   "cell_type": "code",
   "execution_count": 31,
   "id": "b9b0b936-909d-4e7d-9d93-af2137d877d9",
   "metadata": {},
   "outputs": [
    {
     "data": {
      "text/plain": [
       "3000000"
      ]
     },
     "execution_count": 31,
     "metadata": {},
     "output_type": "execute_result"
    }
   ],
   "source": [
    "# penjualan tertinggi di bulan 2 tahun 2023\n",
    "fm223_maks=fm.loc[(fm[\"Tanggal\"].dt.month==2) & (fm[\"Tanggal\"].dt.year==2023), \"Total\"].max()\n",
    "fm223_maks"
   ]
  },
  {
   "cell_type": "code",
   "execution_count": 32,
   "id": "1691ecf4-b8b2-4bb8-91db-5a2eefe97bbd",
   "metadata": {},
   "outputs": [
    {
     "data": {
      "text/plain": [
       "7500000"
      ]
     },
     "execution_count": 32,
     "metadata": {},
     "output_type": "execute_result"
    }
   ],
   "source": [
    "# penjualan tertinggi di bulan 3 tahun 2023\n",
    "fm323_maks=fm.loc[(fm[\"Tanggal\"].dt.month==3) & (fm[\"Tanggal\"].dt.year==2023), \"Total\"].max()\n",
    "fm323_maks"
   ]
  },
  {
   "cell_type": "code",
   "execution_count": 33,
   "id": "e3ee97ef-74ff-4250-a104-ad8ad5ad3f2e",
   "metadata": {},
   "outputs": [
    {
     "data": {
      "text/plain": [
       "7500000"
      ]
     },
     "execution_count": 33,
     "metadata": {},
     "output_type": "execute_result"
    }
   ],
   "source": [
    "# penjualan tertinggi di bulan 4 tahun 2023\n",
    "fm423_maks=fm.loc[(fm[\"Tanggal\"].dt.month==4) & (fm[\"Tanggal\"].dt.year==2023), \"Total\"].max()\n",
    "fm423_maks"
   ]
  },
  {
   "cell_type": "code",
   "execution_count": 34,
   "id": "24cfbf71-14ea-4097-aa76-76870805ad9d",
   "metadata": {},
   "outputs": [
    {
     "data": {
      "text/plain": [
       "7500000"
      ]
     },
     "execution_count": 34,
     "metadata": {},
     "output_type": "execute_result"
    }
   ],
   "source": [
    "# penjualan tertinggi di bulan 5 tahun 2023\n",
    "fm523_maks=fm.loc[(fm[\"Tanggal\"].dt.month==5) & (fm[\"Tanggal\"].dt.year==2023), \"Total\"].max()\n",
    "fm523_maks"
   ]
  },
  {
   "cell_type": "code",
   "execution_count": 35,
   "id": "77e79b9d-db72-4e63-87f0-407c77f89a72",
   "metadata": {},
   "outputs": [
    {
     "data": {
      "text/plain": [
       "4500000"
      ]
     },
     "execution_count": 35,
     "metadata": {},
     "output_type": "execute_result"
    }
   ],
   "source": [
    "# penjualan tertinggi di bulan 6 tahun 2023\n",
    "fm623_maks=fm.loc[(fm[\"Tanggal\"].dt.month==6) & (fm[\"Tanggal\"].dt.year==2023), \"Total\"].max()\n",
    "fm623_maks"
   ]
  },
  {
   "cell_type": "code",
   "execution_count": 36,
   "id": "f8ffede7-f8b7-4451-a632-837fd519952f",
   "metadata": {},
   "outputs": [
    {
     "data": {
      "text/plain": [
       "4500000"
      ]
     },
     "execution_count": 36,
     "metadata": {},
     "output_type": "execute_result"
    }
   ],
   "source": [
    "# penjualan tertinggi di bulan 7 tahun 2023\n",
    "fm723_maks=fm.loc[(fm[\"Tanggal\"].dt.month==7) & (fm[\"Tanggal\"].dt.year==2023), \"Total\"].max()\n",
    "fm723_maks"
   ]
  },
  {
   "cell_type": "code",
   "execution_count": 37,
   "id": "c09433fc-0a8a-4b2b-92e4-f6e4897fb814",
   "metadata": {},
   "outputs": [
    {
     "data": {
      "text/plain": [
       "6600000"
      ]
     },
     "execution_count": 37,
     "metadata": {},
     "output_type": "execute_result"
    }
   ],
   "source": [
    "# penjualan tertinggi di bulan 8 tahun 2023\n",
    "fm823_maks=fm.loc[(fm[\"Tanggal\"].dt.month==8) & (fm[\"Tanggal\"].dt.year==2023), \"Total\"].max()\n",
    "fm823_maks"
   ]
  },
  {
   "cell_type": "code",
   "execution_count": 38,
   "id": "8051aff0-15b2-4929-b246-a5216344f181",
   "metadata": {},
   "outputs": [
    {
     "data": {
      "text/plain": [
       "2000000"
      ]
     },
     "execution_count": 38,
     "metadata": {},
     "output_type": "execute_result"
    }
   ],
   "source": [
    "# penjualan tertinggi di bulan 9 tahun 2023\n",
    "fm923_maks=fm.loc[(fm[\"Tanggal\"].dt.month==9) & (fm[\"Tanggal\"].dt.year==2023), \"Total\"].max()\n",
    "fm923_maks"
   ]
  },
  {
   "cell_type": "code",
   "execution_count": 39,
   "id": "dcb1f716-12f5-4eb6-a800-4e496adfc37f",
   "metadata": {},
   "outputs": [
    {
     "data": {
      "text/plain": [
       "6000000"
      ]
     },
     "execution_count": 39,
     "metadata": {},
     "output_type": "execute_result"
    }
   ],
   "source": [
    "# penjualan tertinggi di bulan 10 tahun 2023\n",
    "fm1023_maks=fm.loc[(fm[\"Tanggal\"].dt.month==10) & (fm[\"Tanggal\"].dt.year==2023), \"Total\"].max()\n",
    "fm1023_maks"
   ]
  },
  {
   "cell_type": "code",
   "execution_count": 40,
   "id": "0dc62dba-7ba2-421f-b64c-1cc69a7db868",
   "metadata": {},
   "outputs": [
    {
     "data": {
      "text/plain": [
       "1600000"
      ]
     },
     "execution_count": 40,
     "metadata": {},
     "output_type": "execute_result"
    }
   ],
   "source": [
    "# penjualan tertinggi di bulan 11 tahun 2023\n",
    "fm1123_maks=fm.loc[(fm[\"Tanggal\"].dt.month==11) & (fm[\"Tanggal\"].dt.year==2023), \"Total\"].max()\n",
    "fm1123_maks"
   ]
  },
  {
   "cell_type": "code",
   "execution_count": 41,
   "id": "0846c7ac-90ba-428f-9cb1-3c7d2076ceeb",
   "metadata": {},
   "outputs": [
    {
     "data": {
      "text/html": [
       "<div>\n",
       "<style scoped>\n",
       "    .dataframe tbody tr th:only-of-type {\n",
       "        vertical-align: middle;\n",
       "    }\n",
       "\n",
       "    .dataframe tbody tr th {\n",
       "        vertical-align: top;\n",
       "    }\n",
       "\n",
       "    .dataframe thead th {\n",
       "        text-align: right;\n",
       "    }\n",
       "</style>\n",
       "<table border=\"1\" class=\"dataframe\">\n",
       "  <thead>\n",
       "    <tr style=\"text-align: right;\">\n",
       "      <th></th>\n",
       "      <th>Bulan/Tahun</th>\n",
       "      <th>Pendapatan Tertinggi</th>\n",
       "    </tr>\n",
       "  </thead>\n",
       "  <tbody>\n",
       "    <tr>\n",
       "      <th>0</th>\n",
       "      <td>08/2022</td>\n",
       "      <td>1900000</td>\n",
       "    </tr>\n",
       "    <tr>\n",
       "      <th>1</th>\n",
       "      <td>09/2022</td>\n",
       "      <td>1750000</td>\n",
       "    </tr>\n",
       "    <tr>\n",
       "      <th>2</th>\n",
       "      <td>01/2023</td>\n",
       "      <td>4000000</td>\n",
       "    </tr>\n",
       "    <tr>\n",
       "      <th>3</th>\n",
       "      <td>02/2023</td>\n",
       "      <td>3000000</td>\n",
       "    </tr>\n",
       "    <tr>\n",
       "      <th>4</th>\n",
       "      <td>03/2023</td>\n",
       "      <td>7500000</td>\n",
       "    </tr>\n",
       "    <tr>\n",
       "      <th>5</th>\n",
       "      <td>04/2023</td>\n",
       "      <td>7500000</td>\n",
       "    </tr>\n",
       "    <tr>\n",
       "      <th>6</th>\n",
       "      <td>05/2023</td>\n",
       "      <td>7500000</td>\n",
       "    </tr>\n",
       "    <tr>\n",
       "      <th>7</th>\n",
       "      <td>06/2023</td>\n",
       "      <td>4500000</td>\n",
       "    </tr>\n",
       "    <tr>\n",
       "      <th>8</th>\n",
       "      <td>07/2023</td>\n",
       "      <td>4500000</td>\n",
       "    </tr>\n",
       "    <tr>\n",
       "      <th>9</th>\n",
       "      <td>08/2023</td>\n",
       "      <td>6600000</td>\n",
       "    </tr>\n",
       "    <tr>\n",
       "      <th>10</th>\n",
       "      <td>09/2023</td>\n",
       "      <td>2000000</td>\n",
       "    </tr>\n",
       "    <tr>\n",
       "      <th>11</th>\n",
       "      <td>10/2023</td>\n",
       "      <td>6000000</td>\n",
       "    </tr>\n",
       "    <tr>\n",
       "      <th>12</th>\n",
       "      <td>11/2023</td>\n",
       "      <td>1600000</td>\n",
       "    </tr>\n",
       "  </tbody>\n",
       "</table>\n",
       "</div>"
      ],
      "text/plain": [
       "   Bulan/Tahun  Pendapatan Tertinggi\n",
       "0      08/2022               1900000\n",
       "1      09/2022               1750000\n",
       "2      01/2023               4000000\n",
       "3      02/2023               3000000\n",
       "4      03/2023               7500000\n",
       "5      04/2023               7500000\n",
       "6      05/2023               7500000\n",
       "7      06/2023               4500000\n",
       "8      07/2023               4500000\n",
       "9      08/2023               6600000\n",
       "10     09/2023               2000000\n",
       "11     10/2023               6000000\n",
       "12     11/2023               1600000"
      ]
     },
     "execution_count": 41,
     "metadata": {},
     "output_type": "execute_result"
    }
   ],
   "source": [
    "# membuat data frame pendapatan produk 'FoodpakMatte245' tertinggi per bulan\n",
    "pendapatan_tertinggi={\"Bulan/Tahun\":[\"08/2022\",\"09/2022\",\"01/2023\",\"02/2023\",\"03/2023\",\"04/2023\",\"05/2023\",\"06/2023\",\"07/2023\",\"08/2023\",\"09/2023\",\"10/2023\",\"11/2023\"],\n",
    "                    \"Pendapatan Tertinggi\":[fm822_maks,fm922_maks,fm123_maks,fm223_maks,fm323_maks,fm423_maks,fm523_maks,fm623_maks,fm723_maks,fm823_maks,fm923_maks,fm1023_maks,fm1123_maks]}\n",
    "pendapatan_tertinggi=pd.DataFrame(pendapatan_tertinggi)\n",
    "pendapatan_tertinggi"
   ]
  },
  {
   "cell_type": "code",
   "execution_count": 42,
   "id": "1bafa188-e5f5-4780-a544-6ebb71913b95",
   "metadata": {},
   "outputs": [
    {
     "data": {
      "image/png": "[encoded data removed]",
      "text/plain": [
       "<Figure size 800x1000 with 1 Axes>"
      ]
     },
     "metadata": {},
     "output_type": "display_data"
    }
   ],
   "source": [
    "# MEMBUAT DIAGRAM BATANG PENJUALAN PRODUK 'FoodpakMatte245' TERTINGGI PER BULAN\n",
    "\n",
    "plt.figure(figsize=(8,10))\n",
    "pendapatan_sorted = pendapatan_tertinggi.sort_values(by=\"Pendapatan Tertinggi\", ascending=True)\n",
    "colors = plt.cm.Set3(np.linspace(0, 1, len(pendapatan_sorted)))\n",
    "bars = plt.barh(pendapatan_sorted[\"Bulan/Tahun\"], pendapatan_sorted[\"Pendapatan Tertinggi\"], color=colors)\n",
    "for bar, label in zip(bars, pendapatan_sorted[\"Bulan/Tahun\"]):\n",
    "    bar.set_label(label)\n",
    "plt.legend(title=\"Bulan/Tahun\", bbox_to_anchor=(1.05, 1), loc='upper left')\n",
    "plt.title(\"Pendapatan Tertinggi Produk FoodpakMatte245 per Bulan\")\n",
    "plt.xlabel(\"Bulan/Tahun\")\n",
    "plt.ylabel(\"Pendapatan Tertinggi\")\n",
    "plt.xticks(rotation=90)\n",
    "plt.show()"
   ]
  },
  {
   "cell_type": "markdown",
   "id": "18bab696-ae63-4c22-98c9-674f20b8f00a",
   "metadata": {},
   "source": [
    "\n"
   ]
  },
  {
   "cell_type": "code",
   "execution_count": 44,
   "id": "93230456-87f5-45b8-beec-110c44348a86",
   "metadata": {},
   "outputs": [
    {
     "data": {
      "image/png": "[encoded data removed]",
      "text/plain": [
       "<Figure size 1000x500 with 1 Axes>"
      ]
     },
     "metadata": {},
     "output_type": "display_data"
    }
   ],
   "source": [
    "# Membuat diagram garis total penjualan dan pendapatan tertinggi produk 'FoodpakMatte245' per bulan\n",
    "plt.figure(figsize=(10,5))\n",
    "plt.plot(penjualan_perbulan[\"Bulan/Tahun\"],penjualan_perbulan[\"Total Penjualan\"],color=\"lightcoral\",label=\"Total Penjualan\")\n",
    "plt.plot(penjualan_perbulan[\"Bulan/Tahun\"],pendapatan_tertinggi[\"Pendapatan Tertinggi\"],color=\"skyblue\",label=\"Pendapatan Tertinggi\")\n",
    "plt.legend(title=\"Keterangan\", bbox_to_anchor=(1.05, 1), loc='upper left')  # Posisi legend di luar grafik\n",
    "plt.title(\"Penjualan Produk FoodpakMatte245 per Bulan\")\n",
    "plt.xlabel(\"Bulan/Tahun\")\n",
    "plt.ylabel(\"Total\")\n",
    "plt.xticks(rotation=90)\n",
    "plt.show()"
   ]
  }
 ],
 "metadata": {
  "kernelspec": {
   "display_name": "Python [conda env:base] *",
   "language": "python",
   "name": "conda-base-py"
  },
  "language_info": {
   "codemirror_mode": {
    "name": "ipython",
    "version": 3
   },
   "file_extension": ".py",
   "mimetype": "text/x-python",
   "name": "python",
   "nbconvert_exporter": "python",
   "pygments_lexer": "ipython3",
   "version": "3.12.7"
  }
 },
 "nbformat": 4,
 "nbformat_minor": 5
}
